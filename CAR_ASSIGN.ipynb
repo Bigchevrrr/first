{
 "cells": [
  {
   "cell_type": "code",
   "execution_count": 1,
   "id": "388bf577",
   "metadata": {},
   "outputs": [],
   "source": [
    "import pandas as pd\n",
    "import seaborn as sns\n",
    "import numpy as np\n",
    "import matplotlib.pyplot as plt\n",
    "\n",
    "from sklearn.preprocessing import LabelEncoder\n",
    "from sklearn.model_selection import train_test_split\n",
    "from sklearn.linear_model import LinearRegression\n",
    "from sklearn.metrics import mean_absolute_error\n",
    "from sklearn.metrics import mean_squared_error"
   ]
  },
  {
   "cell_type": "code",
   "execution_count": 6,
   "id": "14b26436",
   "metadata": {},
   "outputs": [],
   "source": [
    "df = pd.read_csv('Car_Data/pakwheels_used_cars.csv')"
   ]
  },
  {
   "cell_type": "code",
   "execution_count": 7,
   "id": "ef3fbec4",
   "metadata": {},
   "outputs": [
    {
     "name": "stdout",
     "output_type": "stream",
     "text": [
      "<class 'pandas.core.frame.DataFrame'>\n",
      "RangeIndex: 77237 entries, 0 to 77236\n",
      "Data columns (total 14 columns):\n",
      " #   Column        Non-Null Count  Dtype  \n",
      "---  ------        --------------  -----  \n",
      " 0   ad_ref        77237 non-null  int64  \n",
      " 1   assembly      23976 non-null  object \n",
      " 2   body          68372 non-null  object \n",
      " 3   ad_city       77237 non-null  object \n",
      " 4   color         75727 non-null  object \n",
      " 5   engine_cc     77235 non-null  float64\n",
      " 6   fuel_type     76303 non-null  object \n",
      " 7   make          77237 non-null  object \n",
      " 8   mileage       77237 non-null  int64  \n",
      " 9   model         77237 non-null  object \n",
      " 10  registered    77237 non-null  object \n",
      " 11  transmission  77237 non-null  object \n",
      " 12  year          72516 non-null  float64\n",
      " 13  price         76588 non-null  float64\n",
      "dtypes: float64(3), int64(2), object(9)\n",
      "memory usage: 8.2+ MB\n"
     ]
    }
   ],
   "source": [
    "df.info()"
   ]
  },
  {
   "cell_type": "code",
   "execution_count": 8,
   "id": "9aa4b85d",
   "metadata": {},
   "outputs": [
    {
     "data": {
      "text/html": [
       "<div>\n",
       "<style scoped>\n",
       "    .dataframe tbody tr th:only-of-type {\n",
       "        vertical-align: middle;\n",
       "    }\n",
       "\n",
       "    .dataframe tbody tr th {\n",
       "        vertical-align: top;\n",
       "    }\n",
       "\n",
       "    .dataframe thead th {\n",
       "        text-align: right;\n",
       "    }\n",
       "</style>\n",
       "<table border=\"1\" class=\"dataframe\">\n",
       "  <thead>\n",
       "    <tr style=\"text-align: right;\">\n",
       "      <th></th>\n",
       "      <th>ad_ref</th>\n",
       "      <th>assembly</th>\n",
       "      <th>body</th>\n",
       "      <th>ad_city</th>\n",
       "      <th>color</th>\n",
       "      <th>engine_cc</th>\n",
       "      <th>fuel_type</th>\n",
       "      <th>make</th>\n",
       "      <th>mileage</th>\n",
       "      <th>model</th>\n",
       "      <th>registered</th>\n",
       "      <th>transmission</th>\n",
       "      <th>year</th>\n",
       "      <th>price</th>\n",
       "    </tr>\n",
       "  </thead>\n",
       "  <tbody>\n",
       "    <tr>\n",
       "      <th>0</th>\n",
       "      <td>7927285</td>\n",
       "      <td>Imported</td>\n",
       "      <td>Van</td>\n",
       "      <td>Lahore</td>\n",
       "      <td>Pearl White</td>\n",
       "      <td>2000.0</td>\n",
       "      <td>Hybrid</td>\n",
       "      <td>Nissan</td>\n",
       "      <td>124000</td>\n",
       "      <td>Serena</td>\n",
       "      <td>Un-Registered</td>\n",
       "      <td>Automatic</td>\n",
       "      <td>1905.0</td>\n",
       "      <td>8990000.0</td>\n",
       "    </tr>\n",
       "    <tr>\n",
       "      <th>1</th>\n",
       "      <td>7679303</td>\n",
       "      <td>Imported</td>\n",
       "      <td>Hatchback</td>\n",
       "      <td>Lahore</td>\n",
       "      <td>Grey</td>\n",
       "      <td>996.0</td>\n",
       "      <td>Petrol</td>\n",
       "      <td>Toyota</td>\n",
       "      <td>30738</td>\n",
       "      <td>Vitz</td>\n",
       "      <td>Punjab</td>\n",
       "      <td>Automatic</td>\n",
       "      <td>1905.0</td>\n",
       "      <td>4190000.0</td>\n",
       "    </tr>\n",
       "    <tr>\n",
       "      <th>2</th>\n",
       "      <td>7915479</td>\n",
       "      <td>NaN</td>\n",
       "      <td>Sedan</td>\n",
       "      <td>Lahore</td>\n",
       "      <td>Super white</td>\n",
       "      <td>1798.0</td>\n",
       "      <td>Petrol</td>\n",
       "      <td>Toyota</td>\n",
       "      <td>183000</td>\n",
       "      <td>Corolla</td>\n",
       "      <td>Punjab</td>\n",
       "      <td>Automatic</td>\n",
       "      <td>1905.0</td>\n",
       "      <td>3990000.0</td>\n",
       "    </tr>\n",
       "    <tr>\n",
       "      <th>3</th>\n",
       "      <td>7918380</td>\n",
       "      <td>NaN</td>\n",
       "      <td>Sedan</td>\n",
       "      <td>Lahore</td>\n",
       "      <td>Crystal Black Pearl</td>\n",
       "      <td>1500.0</td>\n",
       "      <td>Petrol</td>\n",
       "      <td>Honda</td>\n",
       "      <td>41000</td>\n",
       "      <td>Civic</td>\n",
       "      <td>Punjab</td>\n",
       "      <td>Automatic</td>\n",
       "      <td>1905.0</td>\n",
       "      <td>6490000.0</td>\n",
       "    </tr>\n",
       "    <tr>\n",
       "      <th>4</th>\n",
       "      <td>7676167</td>\n",
       "      <td>Imported</td>\n",
       "      <td>MPV</td>\n",
       "      <td>Lahore</td>\n",
       "      <td>Silver</td>\n",
       "      <td>3000.0</td>\n",
       "      <td>Petrol</td>\n",
       "      <td>Toyota</td>\n",
       "      <td>126000</td>\n",
       "      <td>Alphard</td>\n",
       "      <td>Punjab</td>\n",
       "      <td>Automatic</td>\n",
       "      <td>1905.0</td>\n",
       "      <td>4750000.0</td>\n",
       "    </tr>\n",
       "    <tr>\n",
       "      <th>5</th>\n",
       "      <td>7908190</td>\n",
       "      <td>Imported</td>\n",
       "      <td>SUV</td>\n",
       "      <td>Lahore</td>\n",
       "      <td>White</td>\n",
       "      <td>2700.0</td>\n",
       "      <td>Petrol</td>\n",
       "      <td>Toyota</td>\n",
       "      <td>34000</td>\n",
       "      <td>Prado</td>\n",
       "      <td>Un-Registered</td>\n",
       "      <td>Automatic</td>\n",
       "      <td>1905.0</td>\n",
       "      <td>28900000.0</td>\n",
       "    </tr>\n",
       "    <tr>\n",
       "      <th>6</th>\n",
       "      <td>7823946</td>\n",
       "      <td>NaN</td>\n",
       "      <td>Sedan</td>\n",
       "      <td>Lahore</td>\n",
       "      <td>Modern Steel Metallic</td>\n",
       "      <td>1500.0</td>\n",
       "      <td>Petrol</td>\n",
       "      <td>Honda</td>\n",
       "      <td>65989</td>\n",
       "      <td>Civic</td>\n",
       "      <td>Punjab</td>\n",
       "      <td>Automatic</td>\n",
       "      <td>1905.0</td>\n",
       "      <td>6490000.0</td>\n",
       "    </tr>\n",
       "    <tr>\n",
       "      <th>7</th>\n",
       "      <td>7900746</td>\n",
       "      <td>Imported</td>\n",
       "      <td>Van</td>\n",
       "      <td>Lahore</td>\n",
       "      <td>Black</td>\n",
       "      <td>2000.0</td>\n",
       "      <td>Hybrid</td>\n",
       "      <td>Nissan</td>\n",
       "      <td>97000</td>\n",
       "      <td>Serena</td>\n",
       "      <td>Un-Registered</td>\n",
       "      <td>Automatic</td>\n",
       "      <td>1905.0</td>\n",
       "      <td>7700000.0</td>\n",
       "    </tr>\n",
       "    <tr>\n",
       "      <th>8</th>\n",
       "      <td>7917469</td>\n",
       "      <td>Imported</td>\n",
       "      <td>SUV</td>\n",
       "      <td>Lahore</td>\n",
       "      <td>White Pearl Crystal Shine</td>\n",
       "      <td>4600.0</td>\n",
       "      <td>Petrol</td>\n",
       "      <td>Toyota</td>\n",
       "      <td>9500</td>\n",
       "      <td>Land</td>\n",
       "      <td>Un-Registered</td>\n",
       "      <td>Automatic</td>\n",
       "      <td>1905.0</td>\n",
       "      <td>79800000.0</td>\n",
       "    </tr>\n",
       "    <tr>\n",
       "      <th>9</th>\n",
       "      <td>7815514</td>\n",
       "      <td>NaN</td>\n",
       "      <td>Sedan</td>\n",
       "      <td>Lahore</td>\n",
       "      <td>Crystal Black</td>\n",
       "      <td>1800.0</td>\n",
       "      <td>Petrol</td>\n",
       "      <td>Honda</td>\n",
       "      <td>147000</td>\n",
       "      <td>Civic</td>\n",
       "      <td>Punjab</td>\n",
       "      <td>Automatic</td>\n",
       "      <td>1905.0</td>\n",
       "      <td>4300000.0</td>\n",
       "    </tr>\n",
       "    <tr>\n",
       "      <th>10</th>\n",
       "      <td>7931905</td>\n",
       "      <td>Imported</td>\n",
       "      <td>Sedan</td>\n",
       "      <td>Sialkot</td>\n",
       "      <td>Black</td>\n",
       "      <td>1800.0</td>\n",
       "      <td>Petrol</td>\n",
       "      <td>Audi</td>\n",
       "      <td>61000</td>\n",
       "      <td>A4</td>\n",
       "      <td>Islamabad</td>\n",
       "      <td>Automatic</td>\n",
       "      <td>1905.0</td>\n",
       "      <td>7300000.0</td>\n",
       "    </tr>\n",
       "    <tr>\n",
       "      <th>11</th>\n",
       "      <td>7931906</td>\n",
       "      <td>NaN</td>\n",
       "      <td>NaN</td>\n",
       "      <td>Lahore</td>\n",
       "      <td>White</td>\n",
       "      <td>1500.0</td>\n",
       "      <td>Petrol</td>\n",
       "      <td>Honda</td>\n",
       "      <td>81000</td>\n",
       "      <td>BR-V</td>\n",
       "      <td>Islamabad</td>\n",
       "      <td>Manual</td>\n",
       "      <td>1905.0</td>\n",
       "      <td>4150000.0</td>\n",
       "    </tr>\n",
       "    <tr>\n",
       "      <th>12</th>\n",
       "      <td>7921784</td>\n",
       "      <td>Imported</td>\n",
       "      <td>Crossover</td>\n",
       "      <td>Lahore</td>\n",
       "      <td>Clear White</td>\n",
       "      <td>1368.0</td>\n",
       "      <td>Petrol</td>\n",
       "      <td>KIA</td>\n",
       "      <td>37000</td>\n",
       "      <td>Stonic</td>\n",
       "      <td>Punjab</td>\n",
       "      <td>Automatic</td>\n",
       "      <td>1905.0</td>\n",
       "      <td>5390000.0</td>\n",
       "    </tr>\n",
       "    <tr>\n",
       "      <th>13</th>\n",
       "      <td>7848640</td>\n",
       "      <td>NaN</td>\n",
       "      <td>Crossover</td>\n",
       "      <td>Lahore</td>\n",
       "      <td>Crystal Black Pearl</td>\n",
       "      <td>1500.0</td>\n",
       "      <td>Petrol</td>\n",
       "      <td>Honda</td>\n",
       "      <td>12749</td>\n",
       "      <td>HR-V</td>\n",
       "      <td>Punjab</td>\n",
       "      <td>Automatic</td>\n",
       "      <td>1905.0</td>\n",
       "      <td>7490000.0</td>\n",
       "    </tr>\n",
       "    <tr>\n",
       "      <th>14</th>\n",
       "      <td>7806751</td>\n",
       "      <td>Imported</td>\n",
       "      <td>Hatchback</td>\n",
       "      <td>Lahore</td>\n",
       "      <td>Black</td>\n",
       "      <td>660.0</td>\n",
       "      <td>Petrol</td>\n",
       "      <td>Daihatsu</td>\n",
       "      <td>32826</td>\n",
       "      <td>Mira</td>\n",
       "      <td>Un-Registered</td>\n",
       "      <td>Automatic</td>\n",
       "      <td>1905.0</td>\n",
       "      <td>3690000.0</td>\n",
       "    </tr>\n",
       "    <tr>\n",
       "      <th>15</th>\n",
       "      <td>7816517</td>\n",
       "      <td>Imported</td>\n",
       "      <td>SUV</td>\n",
       "      <td>Lahore</td>\n",
       "      <td>Beige</td>\n",
       "      <td>4200.0</td>\n",
       "      <td>Diesel</td>\n",
       "      <td>Toyota</td>\n",
       "      <td>250000</td>\n",
       "      <td>Land</td>\n",
       "      <td>Punjab</td>\n",
       "      <td>Automatic</td>\n",
       "      <td>1905.0</td>\n",
       "      <td>8850000.0</td>\n",
       "    </tr>\n",
       "    <tr>\n",
       "      <th>16</th>\n",
       "      <td>7922453</td>\n",
       "      <td>Imported</td>\n",
       "      <td>NaN</td>\n",
       "      <td>Lahore</td>\n",
       "      <td>White</td>\n",
       "      <td>660.0</td>\n",
       "      <td>Petrol</td>\n",
       "      <td>Suzuki</td>\n",
       "      <td>3800</td>\n",
       "      <td>Alto</td>\n",
       "      <td>Un-Registered</td>\n",
       "      <td>Automatic</td>\n",
       "      <td>1905.0</td>\n",
       "      <td>4190000.0</td>\n",
       "    </tr>\n",
       "    <tr>\n",
       "      <th>17</th>\n",
       "      <td>7923220</td>\n",
       "      <td>NaN</td>\n",
       "      <td>Compact SUV</td>\n",
       "      <td>Lahore</td>\n",
       "      <td>Lunar Silver</td>\n",
       "      <td>1499.0</td>\n",
       "      <td>Petrol</td>\n",
       "      <td>Changan</td>\n",
       "      <td>23000</td>\n",
       "      <td>Oshan</td>\n",
       "      <td>Punjab</td>\n",
       "      <td>Automatic</td>\n",
       "      <td>NaN</td>\n",
       "      <td>8950000.0</td>\n",
       "    </tr>\n",
       "    <tr>\n",
       "      <th>18</th>\n",
       "      <td>7923246</td>\n",
       "      <td>NaN</td>\n",
       "      <td>Double Cabin</td>\n",
       "      <td>Lahore</td>\n",
       "      <td>Super White</td>\n",
       "      <td>2800.0</td>\n",
       "      <td>Diesel</td>\n",
       "      <td>Toyota</td>\n",
       "      <td>16000</td>\n",
       "      <td>Hilux</td>\n",
       "      <td>Punjab</td>\n",
       "      <td>Automatic</td>\n",
       "      <td>1905.0</td>\n",
       "      <td>13800000.0</td>\n",
       "    </tr>\n",
       "    <tr>\n",
       "      <th>19</th>\n",
       "      <td>7931582</td>\n",
       "      <td>Imported</td>\n",
       "      <td>Crossover</td>\n",
       "      <td>Lahore</td>\n",
       "      <td>Burgundy</td>\n",
       "      <td>996.0</td>\n",
       "      <td>Petrol</td>\n",
       "      <td>Toyota</td>\n",
       "      <td>59000</td>\n",
       "      <td>Raize</td>\n",
       "      <td>Punjab</td>\n",
       "      <td>Automatic</td>\n",
       "      <td>1905.0</td>\n",
       "      <td>5750000.0</td>\n",
       "    </tr>\n",
       "  </tbody>\n",
       "</table>\n",
       "</div>"
      ],
      "text/plain": [
       "     ad_ref  assembly          body  ad_city                      color  \\\n",
       "0   7927285  Imported           Van   Lahore                Pearl White   \n",
       "1   7679303  Imported     Hatchback   Lahore                       Grey   \n",
       "2   7915479       NaN         Sedan   Lahore                Super white   \n",
       "3   7918380       NaN         Sedan   Lahore        Crystal Black Pearl   \n",
       "4   7676167  Imported           MPV   Lahore                     Silver   \n",
       "5   7908190  Imported           SUV   Lahore                      White   \n",
       "6   7823946       NaN         Sedan   Lahore      Modern Steel Metallic   \n",
       "7   7900746  Imported           Van   Lahore                      Black   \n",
       "8   7917469  Imported           SUV   Lahore  White Pearl Crystal Shine   \n",
       "9   7815514       NaN         Sedan   Lahore              Crystal Black   \n",
       "10  7931905  Imported         Sedan  Sialkot                      Black   \n",
       "11  7931906       NaN           NaN   Lahore                      White   \n",
       "12  7921784  Imported     Crossover   Lahore                Clear White   \n",
       "13  7848640       NaN     Crossover   Lahore        Crystal Black Pearl   \n",
       "14  7806751  Imported     Hatchback   Lahore                      Black   \n",
       "15  7816517  Imported           SUV   Lahore                      Beige   \n",
       "16  7922453  Imported           NaN   Lahore                      White   \n",
       "17  7923220       NaN   Compact SUV   Lahore               Lunar Silver   \n",
       "18  7923246       NaN  Double Cabin   Lahore                Super White   \n",
       "19  7931582  Imported     Crossover   Lahore                   Burgundy   \n",
       "\n",
       "    engine_cc fuel_type      make  mileage    model     registered  \\\n",
       "0      2000.0    Hybrid    Nissan   124000   Serena  Un-Registered   \n",
       "1       996.0    Petrol    Toyota    30738     Vitz         Punjab   \n",
       "2      1798.0    Petrol    Toyota   183000  Corolla         Punjab   \n",
       "3      1500.0    Petrol     Honda    41000    Civic         Punjab   \n",
       "4      3000.0    Petrol    Toyota   126000  Alphard         Punjab   \n",
       "5      2700.0    Petrol    Toyota    34000    Prado  Un-Registered   \n",
       "6      1500.0    Petrol     Honda    65989    Civic         Punjab   \n",
       "7      2000.0    Hybrid    Nissan    97000   Serena  Un-Registered   \n",
       "8      4600.0    Petrol    Toyota     9500     Land  Un-Registered   \n",
       "9      1800.0    Petrol     Honda   147000    Civic         Punjab   \n",
       "10     1800.0    Petrol      Audi    61000       A4      Islamabad   \n",
       "11     1500.0    Petrol     Honda    81000     BR-V      Islamabad   \n",
       "12     1368.0    Petrol       KIA    37000   Stonic         Punjab   \n",
       "13     1500.0    Petrol     Honda    12749     HR-V         Punjab   \n",
       "14      660.0    Petrol  Daihatsu    32826     Mira  Un-Registered   \n",
       "15     4200.0    Diesel    Toyota   250000     Land         Punjab   \n",
       "16      660.0    Petrol    Suzuki     3800     Alto  Un-Registered   \n",
       "17     1499.0    Petrol   Changan    23000    Oshan         Punjab   \n",
       "18     2800.0    Diesel    Toyota    16000    Hilux         Punjab   \n",
       "19      996.0    Petrol    Toyota    59000    Raize         Punjab   \n",
       "\n",
       "   transmission    year       price  \n",
       "0     Automatic  1905.0   8990000.0  \n",
       "1     Automatic  1905.0   4190000.0  \n",
       "2     Automatic  1905.0   3990000.0  \n",
       "3     Automatic  1905.0   6490000.0  \n",
       "4     Automatic  1905.0   4750000.0  \n",
       "5     Automatic  1905.0  28900000.0  \n",
       "6     Automatic  1905.0   6490000.0  \n",
       "7     Automatic  1905.0   7700000.0  \n",
       "8     Automatic  1905.0  79800000.0  \n",
       "9     Automatic  1905.0   4300000.0  \n",
       "10    Automatic  1905.0   7300000.0  \n",
       "11       Manual  1905.0   4150000.0  \n",
       "12    Automatic  1905.0   5390000.0  \n",
       "13    Automatic  1905.0   7490000.0  \n",
       "14    Automatic  1905.0   3690000.0  \n",
       "15    Automatic  1905.0   8850000.0  \n",
       "16    Automatic  1905.0   4190000.0  \n",
       "17    Automatic     NaN   8950000.0  \n",
       "18    Automatic  1905.0  13800000.0  \n",
       "19    Automatic  1905.0   5750000.0  "
      ]
     },
     "execution_count": 8,
     "metadata": {},
     "output_type": "execute_result"
    }
   ],
   "source": [
    "df.head(20)"
   ]
  },
  {
   "cell_type": "code",
   "execution_count": 9,
   "id": "c5745b22",
   "metadata": {},
   "outputs": [
    {
     "data": {
      "text/plain": [
       "count      77237\n",
       "unique       297\n",
       "top       Lahore\n",
       "freq       16418\n",
       "Name: ad_city, dtype: object"
      ]
     },
     "execution_count": 9,
     "metadata": {},
     "output_type": "execute_result"
    }
   ],
   "source": [
    "df['ad_city'].describe()"
   ]
  },
  {
   "cell_type": "code",
   "execution_count": 10,
   "id": "b5ebccc1",
   "metadata": {},
   "outputs": [
    {
     "data": {
      "text/plain": [
       "count    72516.0\n",
       "mean      1905.0\n",
       "std          0.0\n",
       "min       1905.0\n",
       "25%       1905.0\n",
       "50%       1905.0\n",
       "75%       1905.0\n",
       "max       1905.0\n",
       "Name: year, dtype: float64"
      ]
     },
     "execution_count": 10,
     "metadata": {},
     "output_type": "execute_result"
    }
   ],
   "source": [
    "df['year'].describe()"
   ]
  },
  {
   "cell_type": "code",
   "execution_count": 11,
   "id": "ffb6a50f",
   "metadata": {},
   "outputs": [
    {
     "data": {
      "text/plain": [
       "count     68372\n",
       "unique       21\n",
       "top       Sedan\n",
       "freq      29951\n",
       "Name: body, dtype: object"
      ]
     },
     "execution_count": 11,
     "metadata": {},
     "output_type": "execute_result"
    }
   ],
   "source": [
    "df['body'].describe()"
   ]
  },
  {
   "cell_type": "code",
   "execution_count": 58,
   "id": "c8ae42aa",
   "metadata": {},
   "outputs": [
    {
     "data": {
      "text/plain": [
       "count      77237\n",
       "unique        69\n",
       "top       Toyota\n",
       "freq       24678\n",
       "Name: make, dtype: object"
      ]
     },
     "execution_count": 58,
     "metadata": {},
     "output_type": "execute_result"
    }
   ],
   "source": [
    "df['make'].describe()"
   ]
  },
  {
   "cell_type": "code",
   "execution_count": 59,
   "id": "5c6b285e",
   "metadata": {},
   "outputs": [
    {
     "data": {
      "text/plain": [
       "count     75727\n",
       "unique      386\n",
       "top       White\n",
       "freq      21324\n",
       "Name: color, dtype: object"
      ]
     },
     "execution_count": 59,
     "metadata": {},
     "output_type": "execute_result"
    }
   ],
   "source": [
    "df['color'].describe()"
   ]
  },
  {
   "cell_type": "code",
   "execution_count": 60,
   "id": "a222ce45",
   "metadata": {},
   "outputs": [
    {
     "data": {
      "text/plain": [
       "count        23976\n",
       "unique           1\n",
       "top       Imported\n",
       "freq         23976\n",
       "Name: assembly, dtype: object"
      ]
     },
     "execution_count": 60,
     "metadata": {},
     "output_type": "execute_result"
    }
   ],
   "source": [
    "df['assembly'].describe()"
   ]
  },
  {
   "cell_type": "code",
   "execution_count": 61,
   "id": "de800dd6",
   "metadata": {},
   "outputs": [
    {
     "data": {
      "text/plain": [
       "count      77237\n",
       "unique       128\n",
       "top       Lahore\n",
       "freq       18677\n",
       "Name: registered, dtype: object"
      ]
     },
     "execution_count": 61,
     "metadata": {},
     "output_type": "execute_result"
    }
   ],
   "source": [
    "df['registered'].describe()"
   ]
  },
  {
   "cell_type": "code",
   "execution_count": 62,
   "id": "8505a861",
   "metadata": {},
   "outputs": [
    {
     "data": {
      "text/plain": [
       "count     68372\n",
       "unique       21\n",
       "top       Sedan\n",
       "freq      29951\n",
       "Name: body, dtype: object"
      ]
     },
     "execution_count": 62,
     "metadata": {},
     "output_type": "execute_result"
    }
   ],
   "source": [
    "df['body'].describe()"
   ]
  },
  {
   "cell_type": "code",
   "execution_count": 63,
   "id": "5355884c",
   "metadata": {},
   "outputs": [
    {
     "data": {
      "text/plain": [
       "count      76303\n",
       "unique         3\n",
       "top       Petrol\n",
       "freq       70028\n",
       "Name: fuel_type, dtype: object"
      ]
     },
     "execution_count": 63,
     "metadata": {},
     "output_type": "execute_result"
    }
   ],
   "source": [
    "df['fuel_type'].describe()"
   ]
  },
  {
   "cell_type": "code",
   "execution_count": 64,
   "id": "8d65c894",
   "metadata": {},
   "outputs": [
    {
     "data": {
      "text/plain": [
       "fuel_type\n",
       "Petrol    70028\n",
       "Diesel     3444\n",
       "Hybrid     2831\n",
       "Name: count, dtype: int64"
      ]
     },
     "execution_count": 64,
     "metadata": {},
     "output_type": "execute_result"
    }
   ],
   "source": [
    "df['fuel_type'].value_counts()"
   ]
  },
  {
   "cell_type": "code",
   "execution_count": 65,
   "id": "f2939398",
   "metadata": {},
   "outputs": [
    {
     "data": {
      "text/plain": [
       "count    77235.000000\n",
       "mean      1406.452062\n",
       "std        707.665165\n",
       "min          3.000000\n",
       "25%       1000.000000\n",
       "50%       1300.000000\n",
       "75%       1600.000000\n",
       "max      15000.000000\n",
       "Name: engine_cc, dtype: float64"
      ]
     },
     "execution_count": 65,
     "metadata": {},
     "output_type": "execute_result"
    }
   ],
   "source": [
    "df['engine_cc'].describe()"
   ]
  },
  {
   "cell_type": "code",
   "execution_count": 66,
   "id": "4c796465",
   "metadata": {},
   "outputs": [
    {
     "data": {
      "text/plain": [
       "count    7.723700e+04\n",
       "mean     7.797474e+06\n",
       "std      2.569679e+05\n",
       "min      2.748970e+05\n",
       "25%      7.792632e+06\n",
       "50%      7.853515e+06\n",
       "75%      7.897048e+06\n",
       "max      7.931906e+06\n",
       "Name: ad_ref, dtype: float64"
      ]
     },
     "execution_count": 66,
     "metadata": {},
     "output_type": "execute_result"
    }
   ],
   "source": [
    "df['ad_ref'].describe()"
   ]
  },
  {
   "cell_type": "code",
   "execution_count": 67,
   "id": "76f6e8ba",
   "metadata": {},
   "outputs": [],
   "source": [
    "df = df.drop('assembly', axis = 1)"
   ]
  },
  {
   "cell_type": "code",
   "execution_count": 68,
   "id": "db7d9b19",
   "metadata": {},
   "outputs": [
    {
     "name": "stdout",
     "output_type": "stream",
     "text": [
      "<class 'pandas.core.frame.DataFrame'>\n",
      "RangeIndex: 77237 entries, 0 to 77236\n",
      "Data columns (total 13 columns):\n",
      " #   Column        Non-Null Count  Dtype  \n",
      "---  ------        --------------  -----  \n",
      " 0   ad_ref        77237 non-null  int64  \n",
      " 1   body          68372 non-null  object \n",
      " 2   ad_city       77237 non-null  object \n",
      " 3   color         75727 non-null  object \n",
      " 4   engine_cc     77235 non-null  float64\n",
      " 5   fuel_type     76303 non-null  object \n",
      " 6   make          77237 non-null  object \n",
      " 7   mileage       77237 non-null  int64  \n",
      " 8   model         77237 non-null  object \n",
      " 9   registered    77237 non-null  object \n",
      " 10  transmission  77237 non-null  object \n",
      " 11  year          72516 non-null  float64\n",
      " 12  price         76588 non-null  float64\n",
      "dtypes: float64(3), int64(2), object(8)\n",
      "memory usage: 7.7+ MB\n"
     ]
    }
   ],
   "source": [
    "df.info()"
   ]
  },
  {
   "cell_type": "code",
   "execution_count": 69,
   "id": "5ae035bc",
   "metadata": {},
   "outputs": [],
   "source": [
    "df[\"body\"] = df[\"body\"].fillna(df[\"body\"].mode()[0]) "
   ]
  },
  {
   "cell_type": "code",
   "execution_count": 70,
   "id": "66d78795",
   "metadata": {},
   "outputs": [],
   "source": [
    "df[\"fuel_type\"] = df[\"fuel_type\"].fillna(df[\"fuel_type\"].mode()[0])"
   ]
  },
  {
   "cell_type": "code",
   "execution_count": 71,
   "id": "216ea08b",
   "metadata": {},
   "outputs": [],
   "source": [
    "df[\"year\"] = df[\"year\"].fillna(df[\"year\"].mode()[0])"
   ]
  },
  {
   "cell_type": "code",
   "execution_count": 72,
   "id": "06477a30",
   "metadata": {},
   "outputs": [],
   "source": [
    "df[\"price\"] = df[\"price\"].fillna(df[\"price\"].mode()[0])"
   ]
  },
  {
   "cell_type": "code",
   "execution_count": 73,
   "id": "85f5536d",
   "metadata": {},
   "outputs": [],
   "source": [
    "df[\"color\"] = df[\"color\"].fillna(df[\"color\"].mode()[0])"
   ]
  },
  {
   "cell_type": "code",
   "execution_count": 74,
   "id": "d55b447c",
   "metadata": {},
   "outputs": [],
   "source": [
    "df[\"engine_cc\"] = df[\"engine_cc\"].fillna(df[\"engine_cc\"].mode()[0])"
   ]
  },
  {
   "cell_type": "code",
   "execution_count": 75,
   "id": "89d63978",
   "metadata": {},
   "outputs": [
    {
     "name": "stdout",
     "output_type": "stream",
     "text": [
      "<class 'pandas.core.frame.DataFrame'>\n",
      "RangeIndex: 77237 entries, 0 to 77236\n",
      "Data columns (total 13 columns):\n",
      " #   Column        Non-Null Count  Dtype  \n",
      "---  ------        --------------  -----  \n",
      " 0   ad_ref        77237 non-null  int64  \n",
      " 1   body          77237 non-null  object \n",
      " 2   ad_city       77237 non-null  object \n",
      " 3   color         77237 non-null  object \n",
      " 4   engine_cc     77237 non-null  float64\n",
      " 5   fuel_type     77237 non-null  object \n",
      " 6   make          77237 non-null  object \n",
      " 7   mileage       77237 non-null  int64  \n",
      " 8   model         77237 non-null  object \n",
      " 9   registered    77237 non-null  object \n",
      " 10  transmission  77237 non-null  object \n",
      " 11  year          77237 non-null  float64\n",
      " 12  price         77237 non-null  float64\n",
      "dtypes: float64(3), int64(2), object(8)\n",
      "memory usage: 7.7+ MB\n"
     ]
    }
   ],
   "source": [
    "df.info()"
   ]
  },
  {
   "cell_type": "code",
   "execution_count": 76,
   "id": "3ead5a2a",
   "metadata": {},
   "outputs": [],
   "source": [
    "categories = df.select_dtypes(include =('object')).columns"
   ]
  },
  {
   "cell_type": "code",
   "execution_count": 77,
   "id": "a06d9b49",
   "metadata": {},
   "outputs": [
    {
     "data": {
      "text/plain": [
       "Index(['body', 'ad_city', 'color', 'fuel_type', 'make', 'model', 'registered',\n",
       "       'transmission'],\n",
       "      dtype='object')"
      ]
     },
     "execution_count": 77,
     "metadata": {},
     "output_type": "execute_result"
    }
   ],
   "source": [
    "categories"
   ]
  },
  {
   "cell_type": "code",
   "execution_count": 78,
   "id": "005721a7",
   "metadata": {},
   "outputs": [],
   "source": [
    "encoder = LabelEncoder()"
   ]
  },
  {
   "cell_type": "code",
   "execution_count": 79,
   "id": "4670b05b",
   "metadata": {},
   "outputs": [],
   "source": [
    "df['body'] = encoder.fit_transform(df['body'])"
   ]
  },
  {
   "cell_type": "code",
   "execution_count": 80,
   "id": "e990a4b8",
   "metadata": {},
   "outputs": [],
   "source": [
    "df['ad_city'] = encoder.fit_transform(df['ad_city'])"
   ]
  },
  {
   "cell_type": "code",
   "execution_count": 81,
   "id": "770ab5f7",
   "metadata": {},
   "outputs": [],
   "source": [
    "df['color'] = encoder.fit_transform(df['color'])"
   ]
  },
  {
   "cell_type": "code",
   "execution_count": 82,
   "id": "47e879e3",
   "metadata": {},
   "outputs": [],
   "source": [
    "df['fuel_type'] = encoder.fit_transform(df['fuel_type'])"
   ]
  },
  {
   "cell_type": "code",
   "execution_count": 83,
   "id": "8668913f",
   "metadata": {},
   "outputs": [],
   "source": [
    "df['make'] = encoder.fit_transform(df['make'])"
   ]
  },
  {
   "cell_type": "code",
   "execution_count": 84,
   "id": "4c9d67a7",
   "metadata": {},
   "outputs": [],
   "source": [
    "df['model'] = encoder.fit_transform(df['model'])"
   ]
  },
  {
   "cell_type": "code",
   "execution_count": 85,
   "id": "2d4a4d3d",
   "metadata": {},
   "outputs": [],
   "source": [
    "df['registered'] = encoder.fit_transform(df['registered'])"
   ]
  },
  {
   "cell_type": "code",
   "execution_count": 86,
   "id": "b4f7017c",
   "metadata": {},
   "outputs": [],
   "source": [
    "df['transmission'] = encoder.fit_transform(df['transmission'])"
   ]
  },
  {
   "cell_type": "code",
   "execution_count": 87,
   "id": "90f398ad",
   "metadata": {},
   "outputs": [
    {
     "name": "stdout",
     "output_type": "stream",
     "text": [
      "<class 'pandas.core.frame.DataFrame'>\n",
      "RangeIndex: 77237 entries, 0 to 77236\n",
      "Data columns (total 13 columns):\n",
      " #   Column        Non-Null Count  Dtype  \n",
      "---  ------        --------------  -----  \n",
      " 0   ad_ref        77237 non-null  int64  \n",
      " 1   body          77237 non-null  int32  \n",
      " 2   ad_city       77237 non-null  int32  \n",
      " 3   color         77237 non-null  int32  \n",
      " 4   engine_cc     77237 non-null  float64\n",
      " 5   fuel_type     77237 non-null  int32  \n",
      " 6   make          77237 non-null  int32  \n",
      " 7   mileage       77237 non-null  int64  \n",
      " 8   model         77237 non-null  int32  \n",
      " 9   registered    77237 non-null  int32  \n",
      " 10  transmission  77237 non-null  int32  \n",
      " 11  year          77237 non-null  float64\n",
      " 12  price         77237 non-null  float64\n",
      "dtypes: float64(3), int32(8), int64(2)\n",
      "memory usage: 5.3 MB\n"
     ]
    }
   ],
   "source": [
    "df.info()"
   ]
  },
  {
   "cell_type": "code",
   "execution_count": 88,
   "id": "f58c0d9b",
   "metadata": {},
   "outputs": [],
   "source": [
    "y = df['price']\n",
    "X = df.drop('price', axis = 1)"
   ]
  },
  {
   "cell_type": "code",
   "execution_count": 91,
   "id": "fa10da3c",
   "metadata": {},
   "outputs": [],
   "source": [
    "trainX, testX, trainy, testy = train_test_split(X, y, test_size=0.2)"
   ]
  },
  {
   "cell_type": "code",
   "execution_count": 93,
   "id": "de0a9785",
   "metadata": {},
   "outputs": [],
   "source": [
    "model = LinearRegression()"
   ]
  },
  {
   "cell_type": "code",
   "execution_count": 94,
   "id": "b062a342",
   "metadata": {},
   "outputs": [
    {
     "data": {
      "text/html": [
       "<style>#sk-container-id-1 {color: black;}#sk-container-id-1 pre{padding: 0;}#sk-container-id-1 div.sk-toggleable {background-color: white;}#sk-container-id-1 label.sk-toggleable__label {cursor: pointer;display: block;width: 100%;margin-bottom: 0;padding: 0.3em;box-sizing: border-box;text-align: center;}#sk-container-id-1 label.sk-toggleable__label-arrow:before {content: \"▸\";float: left;margin-right: 0.25em;color: #696969;}#sk-container-id-1 label.sk-toggleable__label-arrow:hover:before {color: black;}#sk-container-id-1 div.sk-estimator:hover label.sk-toggleable__label-arrow:before {color: black;}#sk-container-id-1 div.sk-toggleable__content {max-height: 0;max-width: 0;overflow: hidden;text-align: left;background-color: #f0f8ff;}#sk-container-id-1 div.sk-toggleable__content pre {margin: 0.2em;color: black;border-radius: 0.25em;background-color: #f0f8ff;}#sk-container-id-1 input.sk-toggleable__control:checked~div.sk-toggleable__content {max-height: 200px;max-width: 100%;overflow: auto;}#sk-container-id-1 input.sk-toggleable__control:checked~label.sk-toggleable__label-arrow:before {content: \"▾\";}#sk-container-id-1 div.sk-estimator input.sk-toggleable__control:checked~label.sk-toggleable__label {background-color: #d4ebff;}#sk-container-id-1 div.sk-label input.sk-toggleable__control:checked~label.sk-toggleable__label {background-color: #d4ebff;}#sk-container-id-1 input.sk-hidden--visually {border: 0;clip: rect(1px 1px 1px 1px);clip: rect(1px, 1px, 1px, 1px);height: 1px;margin: -1px;overflow: hidden;padding: 0;position: absolute;width: 1px;}#sk-container-id-1 div.sk-estimator {font-family: monospace;background-color: #f0f8ff;border: 1px dotted black;border-radius: 0.25em;box-sizing: border-box;margin-bottom: 0.5em;}#sk-container-id-1 div.sk-estimator:hover {background-color: #d4ebff;}#sk-container-id-1 div.sk-parallel-item::after {content: \"\";width: 100%;border-bottom: 1px solid gray;flex-grow: 1;}#sk-container-id-1 div.sk-label:hover label.sk-toggleable__label {background-color: #d4ebff;}#sk-container-id-1 div.sk-serial::before {content: \"\";position: absolute;border-left: 1px solid gray;box-sizing: border-box;top: 0;bottom: 0;left: 50%;z-index: 0;}#sk-container-id-1 div.sk-serial {display: flex;flex-direction: column;align-items: center;background-color: white;padding-right: 0.2em;padding-left: 0.2em;position: relative;}#sk-container-id-1 div.sk-item {position: relative;z-index: 1;}#sk-container-id-1 div.sk-parallel {display: flex;align-items: stretch;justify-content: center;background-color: white;position: relative;}#sk-container-id-1 div.sk-item::before, #sk-container-id-1 div.sk-parallel-item::before {content: \"\";position: absolute;border-left: 1px solid gray;box-sizing: border-box;top: 0;bottom: 0;left: 50%;z-index: -1;}#sk-container-id-1 div.sk-parallel-item {display: flex;flex-direction: column;z-index: 1;position: relative;background-color: white;}#sk-container-id-1 div.sk-parallel-item:first-child::after {align-self: flex-end;width: 50%;}#sk-container-id-1 div.sk-parallel-item:last-child::after {align-self: flex-start;width: 50%;}#sk-container-id-1 div.sk-parallel-item:only-child::after {width: 0;}#sk-container-id-1 div.sk-dashed-wrapped {border: 1px dashed gray;margin: 0 0.4em 0.5em 0.4em;box-sizing: border-box;padding-bottom: 0.4em;background-color: white;}#sk-container-id-1 div.sk-label label {font-family: monospace;font-weight: bold;display: inline-block;line-height: 1.2em;}#sk-container-id-1 div.sk-label-container {text-align: center;}#sk-container-id-1 div.sk-container {/* jupyter's `normalize.less` sets `[hidden] { display: none; }` but bootstrap.min.css set `[hidden] { display: none !important; }` so we also need the `!important` here to be able to override the default hidden behavior on the sphinx rendered scikit-learn.org. See: https://github.com/scikit-learn/scikit-learn/issues/21755 */display: inline-block !important;position: relative;}#sk-container-id-1 div.sk-text-repr-fallback {display: none;}</style><div id=\"sk-container-id-1\" class=\"sk-top-container\"><div class=\"sk-text-repr-fallback\"><pre>LinearRegression()</pre><b>In a Jupyter environment, please rerun this cell to show the HTML representation or trust the notebook. <br />On GitHub, the HTML representation is unable to render, please try loading this page with nbviewer.org.</b></div><div class=\"sk-container\" hidden><div class=\"sk-item\"><div class=\"sk-estimator sk-toggleable\"><input class=\"sk-toggleable__control sk-hidden--visually\" id=\"sk-estimator-id-1\" type=\"checkbox\" checked><label for=\"sk-estimator-id-1\" class=\"sk-toggleable__label sk-toggleable__label-arrow\">LinearRegression</label><div class=\"sk-toggleable__content\"><pre>LinearRegression()</pre></div></div></div></div></div>"
      ],
      "text/plain": [
       "LinearRegression()"
      ]
     },
     "execution_count": 94,
     "metadata": {},
     "output_type": "execute_result"
    }
   ],
   "source": [
    "model.fit(trainX, trainy)"
   ]
  },
  {
   "cell_type": "code",
   "execution_count": 95,
   "id": "bdf68d03",
   "metadata": {},
   "outputs": [],
   "source": [
    "result = model.predict(testX)"
   ]
  },
  {
   "cell_type": "code",
   "execution_count": 96,
   "id": "1a5b020c",
   "metadata": {},
   "outputs": [
    {
     "data": {
      "text/plain": [
       "array([1367227.67899318, 5533555.26363007, 1952450.88856617, ...,\n",
       "       2477780.34079622, 1817500.41053085, 5681172.50150945])"
      ]
     },
     "execution_count": 96,
     "metadata": {},
     "output_type": "execute_result"
    }
   ],
   "source": [
    "result"
   ]
  },
  {
   "cell_type": "code",
   "execution_count": 99,
   "id": "f288f2d6",
   "metadata": {},
   "outputs": [
    {
     "data": {
      "text/plain": [
       "1775839.8580865292"
      ]
     },
     "execution_count": 99,
     "metadata": {},
     "output_type": "execute_result"
    }
   ],
   "source": [
    "mean_absolute_error(result, testy)"
   ]
  },
  {
   "cell_type": "code",
   "execution_count": null,
   "id": "736def1f",
   "metadata": {},
   "outputs": [],
   "source": []
  }
 ],
 "metadata": {
  "kernelspec": {
   "display_name": "Python 3 (ipykernel)",
   "language": "python",
   "name": "python3"
  },
  "language_info": {
   "codemirror_mode": {
    "name": "ipython",
    "version": 3
   },
   "file_extension": ".py",
   "mimetype": "text/x-python",
   "name": "python",
   "nbconvert_exporter": "python",
   "pygments_lexer": "ipython3",
   "version": "3.8.4"
  }
 },
 "nbformat": 4,
 "nbformat_minor": 5
}
